{
 "cells": [
  {
   "cell_type": "code",
   "execution_count": 7,
   "metadata": {},
   "outputs": [],
   "source": [
    "import gym\n",
    "import numpy as np\n",
    "import keras\n",
    "import random\n",
    "import matplotlib.pyplot as plt\n",
    "from keras.models import Sequential\n",
    "from keras.layers import Dense, Dropout, Flatten\n",
    "from keras.layers import Conv2D\n",
    "import cv2\n",
    "from collections import deque\n",
    "import os.path\n",
    "\n",
    "\n",
    "random.seed(7)"
   ]
  },
  {
   "cell_type": "code",
   "execution_count": 8,
   "metadata": {
    "collapsed": true
   },
   "outputs": [],
   "source": [
    "import gym\n",
    "env = gym.make('Breakout-v0')\n",
    "env.reset()\n",
    "\n",
    "\n",
    "\n",
    "def preprocess(observation):\n",
    "    observation = cv2.cvtColor(cv2.resize(observation, (84, 110)), cv2.COLOR_BGR2GRAY)\n",
    "    observation = observation[26:110,:]\n",
    "    return np.reshape(observation,(84,84,1))\n",
    "\n",
    "# def preprocess(observation):\n",
    "#     observation = cv2.cvtColor(cv2.resize(observation, (84, 84)), cv2.COLOR_BGR2GRAY)\n",
    "# #     ret, observation = cv2.threshold(observation,1,255,cv2.THRESH_BINARY)\n",
    "#     return np.reshape(observation,(84,84,1))\n",
    "\n",
    "\n",
    "\n"
   ]
  },
  {
   "cell_type": "raw",
   "metadata": {},
   "source": [
    "Architecture\n",
    "Images based on deepminds DRL research and Stanfords Deep Learning course."
   ]
  },
  {
   "cell_type": "markdown",
   "metadata": {},
   "source": [
    "Deep ConvNet class"
   ]
  },
  {
   "cell_type": "code",
   "execution_count": 9,
   "metadata": {
    "collapsed": true
   },
   "outputs": [],
   "source": [
    "class DQN():\n",
    "    def __init__(self, inputWidth=84, inputHeight=84, zSize=4):\n",
    "        self.model = Sequential()\n",
    "        model = self.model\n",
    "        data_format=None\n",
    "        model.add(Conv2D(32, (8, 8), strides=(4, 4), activation='relu', \n",
    "                        input_shape=(inputWidth, inputHeight, 4)))\n",
    "        model.add(Conv2D(64, (4, 4), strides=(2, 2), activation='relu'))\n",
    "        model.add(Conv2D(64, (3, 3), activation='relu'))\n",
    "        model.add(Flatten())\n",
    "        model.add(Dense(256, activation='relu'))\n",
    "        model.add(Dense(4))\n",
    "        \n",
    "        model.compile(loss='mean_squared_error', optimizer='adam')\n",
    "        if os.path.exists('breakout-v0-weights-v0.h5'):\n",
    "            self.loadModel()\n",
    "            print('loaded nn weights from file')\n",
    "\n",
    "        print('Initializing random nn')\n",
    "        \n",
    "    #passed X and Y buffer to training\n",
    "        \n",
    "        \n",
    "    def saveModel(self):\n",
    "        self.model.save_weights('breakout-v0-weights-v0.h5')\n",
    "        \n",
    "    def loadModel(self):\n",
    "        self.model.load_weights('breakout-v0-weights-v0.h5')\n",
    "\n",
    "    def getModel(self):\n",
    "        return self.model\n"
   ]
  },
  {
   "cell_type": "raw",
   "metadata": {},
   "source": [
    "Replay memory buffer"
   ]
  },
  {
   "cell_type": "code",
   "execution_count": 10,
   "metadata": {
    "collapsed": true
   },
   "outputs": [],
   "source": [
    "class replay_Memory():\n",
    "    def __init__(self, maxSize=2000):\n",
    "        self.maxSize = maxSize\n",
    "        self.memory = np.array([])\n",
    "        \n",
    "    def addUnit(self, unit):\n",
    "        if len(self.memory) + 1 > self.maxSize: \n",
    "            self.memory = np.append(self.memory[1:len(self.memory)], unit)\n",
    "        else:\n",
    "            self.memory = np.append(self.memory, unit)\n",
    "            \n",
    "    def getMemory(self):\n",
    "        return self.memory\n",
    "    \n",
    "    \n",
    "    def getBatch(self, batch_length):\n",
    "        memlen = len(self.memory)\n",
    "        if batch_length > memlen:\n",
    "            return np.random.choice(self.memory, memlen)\n",
    "        else:\n",
    "            return np.random.choice(self.memory, batch_length)\n",
    "            \n",
    "        "
   ]
  },
  {
   "cell_type": "markdown",
   "metadata": {},
   "source": [
    "<img src=\"files/pseudocode.png\">"
   ]
  },
  {
   "cell_type": "code",
   "execution_count": null,
   "metadata": {
    "collapsed": true
   },
   "outputs": [],
   "source": [
    "# EPSILON_EXPLORATION = 0.01\n",
    "# TARGET_UPDATE_TICK = 0\n",
    "# TARGET_UDPATE_STEP = 4\n",
    "# DISCOUNT_CONSTANT = 0.99\n",
    "# REPEAT_ACTION_N = 4\n",
    "\n",
    "\n",
    "# for episode in range(1, 1001):\n",
    "#     totalReward, reward = 0,0\n",
    "#     state = env.reset()\n",
    "#     done = False\n",
    "    \n",
    "    \n",
    "#     while not done:\n",
    "#         nextState, reward, done, info = env.step(random.randint(0, env.action_space.n -1))\n",
    "#         totalReward += reward\n",
    "#         env.render()"
   ]
  },
  {
   "cell_type": "code",
   "execution_count": null,
   "metadata": {},
   "outputs": [
    {
     "name": "stdout",
     "output_type": "stream",
     "text": [
      "loaded nn weights from file\n",
      "Initializing random nn\n"
     ]
    },
    {
     "data": {
      "image/png": "[encoded data removed]",
      "text/plain": [
       "<matplotlib.figure.Figure at 0x12849a4a8>"
      ]
     },
     "metadata": {},
     "output_type": "display_data"
    },
    {
     "data": {
      "image/png": "[encoded data removed]",
      "text/plain": [
       "<matplotlib.figure.Figure at 0x1283298d0>"
      ]
     },
     "metadata": {},
     "output_type": "display_data"
    },
    {
     "data": {
      "image/png": "[encoded data removed]",
      "text/plain": [
       "<matplotlib.figure.Figure at 0x128521198>"
      ]
     },
     "metadata": {},
     "output_type": "display_data"
    },
    {
     "data": {
      "image/png": "[encoded data removed]",
      "text/plain": [
       "<matplotlib.figure.Figure at 0x128f50e80>"
      ]
     },
     "metadata": {},
     "output_type": "display_data"
    }
   ],
   "source": [
    "#class that is representing single transition in replay memory\n",
    "class Transition():\n",
    "    \n",
    "    def __init__(self, observation0, action, reward, observation1, isTerminal):\n",
    "        self.isTerminal = isTerminal\n",
    "        self.obs0 = observation0\n",
    "        self.action = action\n",
    "        self.reward = reward\n",
    "        self.obs1 = observation1\n",
    "    \n",
    "    def getObs(self, index):\n",
    "        if index == 0:\n",
    "            return self.obs0\n",
    "        elif index == 1:\n",
    "            return self.obs1\n",
    "        else:\n",
    "            raise Excetion('Error', 'Invalid index of observation given in transition getter')\n",
    "\n",
    "    def isTerminal():\n",
    "        return self.isTerminal\n",
    "    \n",
    "    def getReward(self):\n",
    "        return self.reward\n",
    "    \n",
    "    def getAction(self):\n",
    "        return self.action\n",
    "    \n",
    "        \n",
    "\n",
    "def get_actions(st, model):\n",
    "    if len(st) != 4:\n",
    "        raise Exception('Error', 'stateProcessingError!')\n",
    "\n",
    "    st = np.dstack((st[0], st[1], st[2], st[3]))\n",
    "    result = model.predict(np.array([st]))[0]\n",
    "#     print('prediction', result)\n",
    "    return result\n",
    "\n",
    "    \n",
    "\n",
    "        \n",
    "    \n",
    "memory = replay_Memory()\n",
    "\n",
    "#initialize dqn\n",
    "q = DQN()\n",
    "\n",
    "states = []\n",
    "\n",
    "env.reset()\n",
    "\n",
    "for i in range (0, 4):\n",
    "    observation, _, _, _ = env.step(0)\n",
    "    states.append(preprocess(observation))\n",
    "    observation0 = preprocess(observation)\n",
    "#     print(\"After processing: \" + str(np.array(observation0).shape))\n",
    "    plt.imshow(np.array(np.squeeze(observation0)))\n",
    "    plt.show()\n",
    "# print(get_actions(states, q.getModel()))\n",
    "# print(np.argmax(get_actions(states, q.getModel())[0]))\n",
    "\n",
    "\n",
    "\n",
    "#initialize target dqn\n",
    "q_target_model = keras.models.clone_model(q.getModel())\n",
    "q_target_model.set_weights(q.getModel().get_weights())\n",
    "\n",
    "\n",
    "#what percentage of actions are random (improves exploartion rate of the algorithm)\n",
    "\n",
    "\n",
    "#constants\n",
    "\n",
    "EPSILON_EXPLORATION_START = 0.010\n",
    "epsilon = EPSILON_EXPLORATION_START\n",
    "EPSILON_EXPLORATION_END = 0.05\n",
    "EXP_DECAY_FRAMES = 10\n",
    "epsilon_change = (EPSILON_EXPLORATION_START - EPSILON_EXPLORATION_END) / EXP_DECAY_FRAMES\n",
    "TARGET_UDPATE_STEP = 4\n",
    "DISCOUNT_CONSTANT = 0.99\n",
    "REPEAT_ACTION_N = 4\n",
    "\n",
    "rewards = []\n",
    "\n",
    "iter = 0\n",
    "while True:\n",
    "\n",
    "    TARGET_UPDATE_TICK = 0\n",
    "    totalReward = 0\n",
    "    tick = 0\n",
    "    lastAction = env.action_space.sample()\n",
    "    lives = 5\n",
    "    \n",
    "    env.reset()\n",
    "    done = False\n",
    "    \n",
    "    recentStates = deque([], maxlen=4)\n",
    "    \n",
    "    #print('new episode', episode)\n",
    "    \n",
    "    iter += 1\n",
    "    if iter % 25 == 0: \n",
    "        q.saveModel()\n",
    "        \n",
    "    while not done and lives != 1:\n",
    "\n",
    "        #repeat 3 same actions on same frame\n",
    "        if tick < REPEAT_ACTION_N:\n",
    "            observation, reward, done, info = env.step(lastAction)\n",
    "            lives = info['ale.lives']\n",
    "            totalReward += reward\n",
    "            recentStates.append(preprocess(observation))\n",
    "            tick += 1\n",
    "#             print(\"repeat action\", lastAction)\n",
    "        else:\n",
    "            randval = random.uniform(0, 1)\n",
    "\n",
    "            #perform random action\n",
    "            if randval <= epsilon:\n",
    "                lastAction = env.action_space.sample()\n",
    "                observation, reward, done, info = env.step(lastAction) \n",
    "                totalReward += reward\n",
    "                lives = info['ale.lives']\n",
    "\n",
    "                recentStates.append(preprocess(observation))\n",
    "#                 print('doing random action', lastAction)\n",
    "\n",
    "            #perform DQN action\n",
    "            else:\n",
    "                \n",
    "                #get optimal action\n",
    "                \n",
    "                optimal_action = np.argmax(get_actions(recentStates, q.getModel()))\n",
    "#                 print('recentstates LEN, ', len(recentStates))\n",
    "#                 print('optimal action', optimal_action)\n",
    "                #execute optimal action\n",
    "                observation, reward, done, info = env.step(optimal_action)\n",
    "                lives = info['ale.lives']\n",
    "                totalReward += reward\n",
    "                \n",
    "                \n",
    "                #update last action\n",
    "                lastAction = optimal_action\n",
    "                \n",
    "                obs_t0 = recentStates.copy()\n",
    "                \n",
    "                recentStates.append(preprocess(observation))\n",
    "                \n",
    "                obs_t1 = recentStates.copy()\n",
    "\n",
    "                \n",
    "                #save transition in replay memory\n",
    "                transition = Transition(obs_t0, optimal_action, reward, obs_t1, isTerminal=done or lives != 5)\n",
    "                \n",
    "                memory.addUnit(transition)\n",
    "                \n",
    "                #batch = [{ob1, an, r, ob2}...]\n",
    "                batch = memory.getBatch(32)\n",
    "                \n",
    "                if len(memory.getMemory()) < 100:\n",
    "                   continue\n",
    "                #get X for training\n",
    "                X = []\n",
    "                for sample in batch:\n",
    "#                     print('X')\n",
    "                    st = sample.getObs(0)\n",
    "                    train_val = np.dstack((st[0], st[1], st[2], st[3]))\n",
    "#                     print('train_val', train_val.shape)\n",
    "                    X.append(train_val)\n",
    "                X = np.array(X)\n",
    "                \n",
    "                #get Y for training\n",
    "                Y = []\n",
    "                #get the correct Y values\n",
    "                for sample in batch:\n",
    "                    \n",
    "                    sample_action = sample.getAction()\n",
    "                    prediction = get_actions(sample.getObs(0), q.getModel())\n",
    "#                     print('y0', prediction)\n",
    "                    \n",
    "                    # set target as r\n",
    "                    if sample.isTerminal:\n",
    "#                         print('sample action', sample_action)\n",
    "#                         print('reward', sample.getReward())\n",
    "                        prediction[sample_action] = sample.getReward()\n",
    "                        \n",
    "                    #set target as rt + discount_factor*max(Q(st + 1, a_))    \n",
    "                    else:\n",
    "                        max_actionVal = np.max( get_actions(sample.getObs(1), q_target_model) )\n",
    "#                         print('max_actionVal', max_actionVal)\n",
    "                        q_value = sample.getReward() + DISCOUNT_CONSTANT * max_actionVal\n",
    "#                         print(q_value)\n",
    "                        prediction[sample_action] = q_value\n",
    "                        \n",
    "#                     print('prediction Updated', prediction)\n",
    "                    Y.append(prediction)\n",
    "\n",
    "#                 print('Y', Y)\n",
    "                Y = np.array(Y)\n",
    "                    \n",
    "                #perform gradient step update\n",
    "                q.getModel().fit(x = X, y = Y, verbose=0)\n",
    "                \n",
    "                #every TARGET_UDPATE_STEP step copy weights to target network\n",
    "                if TARGET_UPDATE_TICK >= TARGET_UDPATE_STEP:\n",
    "                    TARGET_UPDATE_TICK = 0\n",
    "                    q_target_model.set_weights(q.getModel().get_weights())\n",
    "                TARGET_UPDATE_TICK += 1\n",
    "            tick = 0\n",
    "        env.render()\n",
    "    rewards.append(totalReward)\n",
    "env.close()\n",
    "    \n",
    "    \n",
    "#plot all rewards\n",
    "plt.plot(rewards)\n",
    "plt.ylabel('reward')\n",
    "plt.xlabel('episode')\n",
    "plt.show()\n"
   ]
  },
  {
   "cell_type": "code",
   "execution_count": null,
   "metadata": {
    "collapsed": true
   },
   "outputs": [],
   "source": [
    "import numpy as np"
   ]
  },
  {
   "cell_type": "code",
   "execution_count": null,
   "metadata": {
    "collapsed": true
   },
   "outputs": [],
   "source": [
    "min(0,1)"
   ]
  }
 ],
 "metadata": {
  "kernelspec": {
   "display_name": "gym",
   "language": "python",
   "name": "gym"
  },
  "language_info": {
   "codemirror_mode": {
    "name": "ipython",
    "version": 3
   },
   "file_extension": ".py",
   "mimetype": "text/x-python",
   "name": "python",
   "nbconvert_exporter": "python",
   "pygments_lexer": "ipython3",
   "version": "3.5.4"
  }
 },
 "nbformat": 4,
 "nbformat_minor": 2
}
